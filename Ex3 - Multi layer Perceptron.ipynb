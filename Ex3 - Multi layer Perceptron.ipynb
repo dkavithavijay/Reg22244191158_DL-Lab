{
 "cells": [
  {
   "cell_type": "code",
   "execution_count": 25,
   "id": "883f7698",
   "metadata": {},
   "outputs": [],
   "source": [
    "#3b.Tune the learning rate,no.of epoch and even data preparation method to get an improved score on the dataset\n",
    "import numpy as np\n",
    "import pandas as pd\n",
    "import matplotlib.pyplot as plt\n",
    "import argparse\n",
    "\n",
    "from sklearn import datasets\n",
    "from sklearn.model_selection import train_test_split\n",
    "from sklearn import metrics\n",
    "\n",
    "#\n",
    "# Import Keras modules\n",
    "from keras import models\n",
    "from tensorflow.keras.models import Sequential\n",
    "from keras import layers\n",
    "from tensorflow.keras.utils import to_categorical\n",
    "from tensorflow.keras.optimizers import SGD\n",
    "from sklearn.neural_network import MLPClassifier # neural network"
   ]
  },
  {
   "cell_type": "code",
   "execution_count": 26,
   "id": "a4bffd97",
   "metadata": {},
   "outputs": [
    {
     "data": {
      "text/html": [
       "<div>\n",
       "<style scoped>\n",
       "    .dataframe tbody tr th:only-of-type {\n",
       "        vertical-align: middle;\n",
       "    }\n",
       "\n",
       "    .dataframe tbody tr th {\n",
       "        vertical-align: top;\n",
       "    }\n",
       "\n",
       "    .dataframe thead th {\n",
       "        text-align: right;\n",
       "    }\n",
       "</style>\n",
       "<table border=\"1\" class=\"dataframe\">\n",
       "  <thead>\n",
       "    <tr style=\"text-align: right;\">\n",
       "      <th></th>\n",
       "      <th>5.1</th>\n",
       "      <th>3.5</th>\n",
       "      <th>1.4</th>\n",
       "      <th>0.2</th>\n",
       "      <th>Iris-setosa</th>\n",
       "    </tr>\n",
       "  </thead>\n",
       "  <tbody>\n",
       "    <tr>\n",
       "      <th>0</th>\n",
       "      <td>4.9</td>\n",
       "      <td>3.0</td>\n",
       "      <td>1.4</td>\n",
       "      <td>0.2</td>\n",
       "      <td>Iris-setosa</td>\n",
       "    </tr>\n",
       "    <tr>\n",
       "      <th>1</th>\n",
       "      <td>4.7</td>\n",
       "      <td>3.2</td>\n",
       "      <td>1.3</td>\n",
       "      <td>0.2</td>\n",
       "      <td>Iris-setosa</td>\n",
       "    </tr>\n",
       "    <tr>\n",
       "      <th>2</th>\n",
       "      <td>4.6</td>\n",
       "      <td>3.1</td>\n",
       "      <td>1.5</td>\n",
       "      <td>0.2</td>\n",
       "      <td>Iris-setosa</td>\n",
       "    </tr>\n",
       "    <tr>\n",
       "      <th>3</th>\n",
       "      <td>5.0</td>\n",
       "      <td>3.6</td>\n",
       "      <td>1.4</td>\n",
       "      <td>0.2</td>\n",
       "      <td>Iris-setosa</td>\n",
       "    </tr>\n",
       "    <tr>\n",
       "      <th>4</th>\n",
       "      <td>5.4</td>\n",
       "      <td>3.9</td>\n",
       "      <td>1.7</td>\n",
       "      <td>0.4</td>\n",
       "      <td>Iris-setosa</td>\n",
       "    </tr>\n",
       "  </tbody>\n",
       "</table>\n",
       "</div>"
      ],
      "text/plain": [
       "   5.1  3.5  1.4  0.2  Iris-setosa\n",
       "0  4.9  3.0  1.4  0.2  Iris-setosa\n",
       "1  4.7  3.2  1.3  0.2  Iris-setosa\n",
       "2  4.6  3.1  1.5  0.2  Iris-setosa\n",
       "3  5.0  3.6  1.4  0.2  Iris-setosa\n",
       "4  5.4  3.9  1.7  0.4  Iris-setosa"
      ]
     },
     "execution_count": 26,
     "metadata": {},
     "output_type": "execute_result"
    }
   ],
   "source": [
    "# Load the iris dataset\n",
    "\n",
    "\n",
    "# Load the data set and see first 5 rows\n",
    "a = pd.read_csv('iris.csv')\n",
    "iris = pd.DataFrame(a)\n",
    "iris.head()\n",
    "\n"
   ]
  },
  {
   "cell_type": "code",
   "execution_count": 27,
   "id": "0eddf1b6",
   "metadata": {},
   "outputs": [
    {
     "data": {
      "text/plain": [
       "(149, 5)"
      ]
     },
     "execution_count": 27,
     "metadata": {},
     "output_type": "execute_result"
    }
   ],
   "source": [
    "iris.shape"
   ]
  },
  {
   "cell_type": "code",
   "execution_count": 28,
   "id": "e784b882",
   "metadata": {},
   "outputs": [],
   "source": [
    "iris = datasets.load_iris()\n",
    "X = iris.data\n",
    "y = iris.target"
   ]
  },
  {
   "cell_type": "code",
   "execution_count": 29,
   "id": "f33d5883",
   "metadata": {},
   "outputs": [],
   "source": [
    "X_train, X_test, y_train, y_test = train_test_split(X, y, test_size=0.3, stratify=y, random_state=1)"
   ]
  },
  {
   "cell_type": "code",
   "execution_count": 30,
   "id": "ea28d8d9",
   "metadata": {},
   "outputs": [],
   "source": [
    "clf = MLPClassifier(solver='adam', alpha=1e-5, hidden_layer_sizes=(3, 3), random_state=1)"
   ]
  },
  {
   "cell_type": "code",
   "execution_count": 31,
   "id": "dd4a0c90",
   "metadata": {},
   "outputs": [
    {
     "name": "stderr",
     "output_type": "stream",
     "text": [
      "D:\\Users\\sf41\\Anaconda3\\envs\\tensorflow_env\\lib\\site-packages\\sklearn\\neural_network\\_multilayer_perceptron.py:614: ConvergenceWarning: Stochastic Optimizer: Maximum iterations (200) reached and the optimization hasn't converged yet.\n",
      "  warnings.warn(\n"
     ]
    },
    {
     "data": {
      "text/plain": [
       "MLPClassifier(alpha=1e-05, hidden_layer_sizes=(3, 3), random_state=1)"
      ]
     },
     "execution_count": 31,
     "metadata": {},
     "output_type": "execute_result"
    }
   ],
   "source": [
    "clf.fit(X_train, y_train)"
   ]
  },
  {
   "cell_type": "code",
   "execution_count": 32,
   "id": "fd72ebd7",
   "metadata": {},
   "outputs": [
    {
     "name": "stdout",
     "output_type": "stream",
     "text": [
      "[2 1 1 2 1 1 2 1 2 0 1 2 0 1 0 1 2 2 1 2 2 0 1 2 2 2 1 2 1 2 1 0 1 1 2 2 1\n",
      " 0 0 1 2 2 1 0 0]\n"
     ]
    }
   ],
   "source": [
    "prediction = clf.predict(X_test)\n",
    "print(prediction)"
   ]
  },
  {
   "cell_type": "code",
   "execution_count": 33,
   "id": "4e7f189d",
   "metadata": {},
   "outputs": [
    {
     "name": "stdout",
     "output_type": "stream",
     "text": [
      "The accuracy of the Multi-layer Perceptron is: 0.8\n"
     ]
    }
   ],
   "source": [
    "print('The accuracy of the Multi-layer Perceptron is:',metrics.accuracy_score(prediction,y_test))"
   ]
  },
  {
   "cell_type": "code",
   "execution_count": 34,
   "id": "784ab998",
   "metadata": {},
   "outputs": [],
   "source": [
    "train_labels = to_categorical(y_train)\n",
    "test_labels = to_categorical(y_test)"
   ]
  },
  {
   "cell_type": "code",
   "execution_count": 35,
   "id": "e9f7669c",
   "metadata": {},
   "outputs": [],
   "source": [
    "network = models.Sequential()\n",
    "network.add(layers.Dense(32, activation='relu', input_shape=(4,)))\n",
    "network.add(layers.Dense(64, activation='relu'))\n",
    "network.add(layers.Dense(128, activation='relu'))\n",
    "network.add(layers.Dense(3, activation='softmax'))"
   ]
  },
  {
   "cell_type": "code",
   "execution_count": 36,
   "id": "32cf424c",
   "metadata": {},
   "outputs": [],
   "source": [
    "learning_rate=0.04\n",
    "sgd=SGD(learning_rate)\n",
    "network.compile(optimizer='sgd',\n",
    "                loss='categorical_crossentropy',\n",
    "                metrics=['accuracy'])"
   ]
  },
  {
   "cell_type": "code",
   "execution_count": 37,
   "id": "5fd6937e",
   "metadata": {},
   "outputs": [
    {
     "name": "stdout",
     "output_type": "stream",
     "text": [
      "Epoch 1/100\n",
      "9/9 [==============================] - 0s 28ms/step - loss: 1.0153 - accuracy: 0.5357 - val_loss: 0.9436 - val_accuracy: 0.6190\n",
      "Epoch 2/100\n",
      "9/9 [==============================] - 0s 6ms/step - loss: 0.8448 - accuracy: 0.7619 - val_loss: 0.7199 - val_accuracy: 0.9048\n",
      "Epoch 3/100\n",
      "9/9 [==============================] - 0s 4ms/step - loss: 0.7435 - accuracy: 0.7619 - val_loss: 0.6699 - val_accuracy: 0.7143\n",
      "Epoch 4/100\n",
      "9/9 [==============================] - 0s 4ms/step - loss: 0.6641 - accuracy: 0.6905 - val_loss: 0.5763 - val_accuracy: 0.9048\n",
      "Epoch 5/100\n",
      "9/9 [==============================] - 0s 5ms/step - loss: 0.5994 - accuracy: 0.8214 - val_loss: 0.5194 - val_accuracy: 0.7619\n",
      "Epoch 6/100\n",
      "9/9 [==============================] - 0s 4ms/step - loss: 0.5469 - accuracy: 0.7857 - val_loss: 0.4579 - val_accuracy: 0.9524\n",
      "Epoch 7/100\n",
      "9/9 [==============================] - 0s 4ms/step - loss: 0.5156 - accuracy: 0.8929 - val_loss: 0.4353 - val_accuracy: 0.9048\n",
      "Epoch 8/100\n",
      "9/9 [==============================] - 0s 5ms/step - loss: 0.4799 - accuracy: 0.8929 - val_loss: 0.4063 - val_accuracy: 0.9048\n",
      "Epoch 9/100\n",
      "9/9 [==============================] - 0s 4ms/step - loss: 0.4724 - accuracy: 0.9048 - val_loss: 0.3904 - val_accuracy: 0.9048\n",
      "Epoch 10/100\n",
      "9/9 [==============================] - 0s 4ms/step - loss: 0.4424 - accuracy: 0.8214 - val_loss: 0.3784 - val_accuracy: 0.9048\n",
      "Epoch 11/100\n",
      "9/9 [==============================] - 0s 4ms/step - loss: 0.4232 - accuracy: 0.8810 - val_loss: 0.3367 - val_accuracy: 0.9524\n",
      "Epoch 12/100\n",
      "9/9 [==============================] - 0s 4ms/step - loss: 0.4083 - accuracy: 0.9286 - val_loss: 0.3197 - val_accuracy: 0.9524\n",
      "Epoch 13/100\n",
      "9/9 [==============================] - 0s 4ms/step - loss: 0.3956 - accuracy: 0.9167 - val_loss: 0.4372 - val_accuracy: 0.7143\n",
      "Epoch 14/100\n",
      "9/9 [==============================] - 0s 5ms/step - loss: 0.3791 - accuracy: 0.8690 - val_loss: 0.3093 - val_accuracy: 0.9048\n",
      "Epoch 15/100\n",
      "9/9 [==============================] - 0s 4ms/step - loss: 0.3620 - accuracy: 0.9524 - val_loss: 0.3314 - val_accuracy: 0.9048\n",
      "Epoch 16/100\n",
      "9/9 [==============================] - 0s 4ms/step - loss: 0.3569 - accuracy: 0.8929 - val_loss: 0.2822 - val_accuracy: 0.9048\n",
      "Epoch 17/100\n",
      "9/9 [==============================] - 0s 5ms/step - loss: 0.3364 - accuracy: 0.9405 - val_loss: 0.3302 - val_accuracy: 0.8095\n",
      "Epoch 18/100\n",
      "9/9 [==============================] - 0s 4ms/step - loss: 0.3555 - accuracy: 0.8810 - val_loss: 0.2559 - val_accuracy: 0.9524\n",
      "Epoch 19/100\n",
      "9/9 [==============================] - 0s 4ms/step - loss: 0.3351 - accuracy: 0.9405 - val_loss: 0.2441 - val_accuracy: 0.9524\n",
      "Epoch 20/100\n",
      "9/9 [==============================] - 0s 5ms/step - loss: 0.3199 - accuracy: 0.9405 - val_loss: 0.2341 - val_accuracy: 0.9524\n",
      "Epoch 21/100\n",
      "9/9 [==============================] - 0s 4ms/step - loss: 0.2997 - accuracy: 0.9405 - val_loss: 0.2279 - val_accuracy: 0.9524\n",
      "Epoch 22/100\n",
      "9/9 [==============================] - 0s 4ms/step - loss: 0.2806 - accuracy: 0.9405 - val_loss: 0.2233 - val_accuracy: 0.9524\n",
      "Epoch 23/100\n",
      "9/9 [==============================] - 0s 5ms/step - loss: 0.2878 - accuracy: 0.9405 - val_loss: 0.2154 - val_accuracy: 0.9524\n",
      "Epoch 24/100\n",
      "9/9 [==============================] - 0s 4ms/step - loss: 0.2790 - accuracy: 0.9524 - val_loss: 0.2050 - val_accuracy: 1.0000\n",
      "Epoch 25/100\n",
      "9/9 [==============================] - 0s 4ms/step - loss: 0.2485 - accuracy: 0.9524 - val_loss: 0.1972 - val_accuracy: 0.9524\n",
      "Epoch 26/100\n",
      "9/9 [==============================] - 0s 4ms/step - loss: 0.2635 - accuracy: 0.8929 - val_loss: 0.2120 - val_accuracy: 0.9048\n",
      "Epoch 27/100\n",
      "9/9 [==============================] - 0s 5ms/step - loss: 0.3031 - accuracy: 0.8810 - val_loss: 0.3648 - val_accuracy: 0.8095\n",
      "Epoch 28/100\n",
      "9/9 [==============================] - 0s 4ms/step - loss: 0.3199 - accuracy: 0.8333 - val_loss: 0.2987 - val_accuracy: 0.8095\n",
      "Epoch 29/100\n",
      "9/9 [==============================] - 0s 4ms/step - loss: 0.3109 - accuracy: 0.9167 - val_loss: 0.2661 - val_accuracy: 0.9048\n",
      "Epoch 30/100\n",
      "9/9 [==============================] - 0s 4ms/step - loss: 0.2737 - accuracy: 0.9167 - val_loss: 0.1712 - val_accuracy: 0.9524\n",
      "Epoch 31/100\n",
      "9/9 [==============================] - 0s 4ms/step - loss: 0.2379 - accuracy: 0.9524 - val_loss: 0.1706 - val_accuracy: 0.9524\n",
      "Epoch 32/100\n",
      "9/9 [==============================] - 0s 4ms/step - loss: 0.2612 - accuracy: 0.9524 - val_loss: 0.2514 - val_accuracy: 0.9048\n",
      "Epoch 33/100\n",
      "9/9 [==============================] - 0s 4ms/step - loss: 0.2354 - accuracy: 0.9167 - val_loss: 0.1748 - val_accuracy: 0.9048\n",
      "Epoch 34/100\n",
      "9/9 [==============================] - 0s 5ms/step - loss: 0.2427 - accuracy: 0.9286 - val_loss: 0.1549 - val_accuracy: 0.9524\n",
      "Epoch 35/100\n",
      "9/9 [==============================] - 0s 4ms/step - loss: 0.2000 - accuracy: 0.9524 - val_loss: 0.1885 - val_accuracy: 0.9048\n",
      "Epoch 36/100\n",
      "9/9 [==============================] - 0s 4ms/step - loss: 0.2136 - accuracy: 0.9405 - val_loss: 0.1783 - val_accuracy: 0.9048\n",
      "Epoch 37/100\n",
      "9/9 [==============================] - 0s 4ms/step - loss: 0.2320 - accuracy: 0.9167 - val_loss: 0.1419 - val_accuracy: 0.9524\n",
      "Epoch 38/100\n",
      "9/9 [==============================] - 0s 4ms/step - loss: 0.1869 - accuracy: 0.9643 - val_loss: 0.4940 - val_accuracy: 0.7619\n",
      "Epoch 39/100\n",
      "9/9 [==============================] - 0s 4ms/step - loss: 0.2177 - accuracy: 0.9405 - val_loss: 0.1653 - val_accuracy: 0.9048\n",
      "Epoch 40/100\n",
      "9/9 [==============================] - 0s 5ms/step - loss: 0.2092 - accuracy: 0.9167 - val_loss: 0.3204 - val_accuracy: 0.8095\n",
      "Epoch 41/100\n",
      "9/9 [==============================] - 0s 5ms/step - loss: 0.2872 - accuracy: 0.8810 - val_loss: 0.1323 - val_accuracy: 0.9524\n",
      "Epoch 42/100\n",
      "9/9 [==============================] - 0s 4ms/step - loss: 0.2377 - accuracy: 0.8929 - val_loss: 0.1285 - val_accuracy: 0.9524\n",
      "Epoch 43/100\n",
      "9/9 [==============================] - 0s 4ms/step - loss: 0.1782 - accuracy: 0.9405 - val_loss: 0.1464 - val_accuracy: 0.9048\n",
      "Epoch 44/100\n",
      "9/9 [==============================] - 0s 5ms/step - loss: 0.1988 - accuracy: 0.9405 - val_loss: 0.3025 - val_accuracy: 0.8095\n",
      "Epoch 45/100\n",
      "9/9 [==============================] - 0s 4ms/step - loss: 0.1813 - accuracy: 0.9524 - val_loss: 0.1504 - val_accuracy: 0.9524\n",
      "Epoch 46/100\n",
      "9/9 [==============================] - 0s 4ms/step - loss: 0.2129 - accuracy: 0.9167 - val_loss: 0.1184 - val_accuracy: 0.9524\n",
      "Epoch 47/100\n",
      "9/9 [==============================] - 0s 4ms/step - loss: 0.1708 - accuracy: 0.9643 - val_loss: 0.1303 - val_accuracy: 0.9524\n",
      "Epoch 48/100\n",
      "9/9 [==============================] - 0s 4ms/step - loss: 0.2171 - accuracy: 0.9167 - val_loss: 0.1216 - val_accuracy: 1.0000\n",
      "Epoch 49/100\n",
      "9/9 [==============================] - 0s 4ms/step - loss: 0.1891 - accuracy: 0.9524 - val_loss: 0.2312 - val_accuracy: 0.9048\n",
      "Epoch 50/100\n",
      "9/9 [==============================] - 0s 5ms/step - loss: 0.2629 - accuracy: 0.8810 - val_loss: 0.1163 - val_accuracy: 1.0000\n",
      "Epoch 51/100\n",
      "9/9 [==============================] - 0s 5ms/step - loss: 0.2047 - accuracy: 0.9524 - val_loss: 0.5562 - val_accuracy: 0.7143\n",
      "Epoch 52/100\n",
      "9/9 [==============================] - 0s 4ms/step - loss: 0.2623 - accuracy: 0.9048 - val_loss: 0.3859 - val_accuracy: 0.8095\n",
      "Epoch 53/100\n",
      "9/9 [==============================] - 0s 4ms/step - loss: 0.3750 - accuracy: 0.8333 - val_loss: 0.2479 - val_accuracy: 0.9048\n",
      "Epoch 54/100\n",
      "9/9 [==============================] - 0s 5ms/step - loss: 0.1854 - accuracy: 0.9524 - val_loss: 0.1130 - val_accuracy: 0.9524\n",
      "Epoch 55/100\n",
      "9/9 [==============================] - 0s 4ms/step - loss: 0.1606 - accuracy: 0.9524 - val_loss: 0.1253 - val_accuracy: 0.9524\n",
      "Epoch 56/100\n",
      "9/9 [==============================] - 0s 4ms/step - loss: 0.1853 - accuracy: 0.9405 - val_loss: 0.1025 - val_accuracy: 1.0000\n",
      "Epoch 57/100\n",
      "9/9 [==============================] - 0s 4ms/step - loss: 0.1757 - accuracy: 0.9405 - val_loss: 0.1508 - val_accuracy: 0.9524\n",
      "Epoch 58/100\n",
      "9/9 [==============================] - 0s 4ms/step - loss: 0.1448 - accuracy: 0.9524 - val_loss: 0.2043 - val_accuracy: 0.9048\n",
      "Epoch 59/100\n"
     ]
    },
    {
     "name": "stdout",
     "output_type": "stream",
     "text": [
      "9/9 [==============================] - 0s 4ms/step - loss: 0.1562 - accuracy: 0.9643 - val_loss: 0.1016 - val_accuracy: 1.0000\n",
      "Epoch 60/100\n",
      "9/9 [==============================] - 0s 4ms/step - loss: 0.1955 - accuracy: 0.9167 - val_loss: 0.4229 - val_accuracy: 0.7619\n",
      "Epoch 61/100\n",
      "9/9 [==============================] - 0s 4ms/step - loss: 0.2345 - accuracy: 0.8929 - val_loss: 0.0958 - val_accuracy: 1.0000\n",
      "Epoch 62/100\n",
      "9/9 [==============================] - 0s 4ms/step - loss: 0.1661 - accuracy: 0.9643 - val_loss: 0.5213 - val_accuracy: 0.8095\n",
      "Epoch 63/100\n",
      "9/9 [==============================] - 0s 4ms/step - loss: 0.2488 - accuracy: 0.8929 - val_loss: 0.2346 - val_accuracy: 0.9048\n",
      "Epoch 64/100\n",
      "9/9 [==============================] - 0s 4ms/step - loss: 0.1955 - accuracy: 0.9286 - val_loss: 0.2082 - val_accuracy: 0.9048\n",
      "Epoch 65/100\n",
      "9/9 [==============================] - 0s 4ms/step - loss: 0.1611 - accuracy: 0.9524 - val_loss: 0.0920 - val_accuracy: 0.9524\n",
      "Epoch 66/100\n",
      "9/9 [==============================] - 0s 4ms/step - loss: 0.1902 - accuracy: 0.9405 - val_loss: 0.0903 - val_accuracy: 1.0000\n",
      "Epoch 67/100\n",
      "9/9 [==============================] - 0s 4ms/step - loss: 0.1554 - accuracy: 0.9524 - val_loss: 0.1095 - val_accuracy: 0.9524\n",
      "Epoch 68/100\n",
      "9/9 [==============================] - 0s 4ms/step - loss: 0.1490 - accuracy: 0.9405 - val_loss: 0.0908 - val_accuracy: 0.9524\n",
      "Epoch 69/100\n",
      "9/9 [==============================] - 0s 4ms/step - loss: 0.2200 - accuracy: 0.8929 - val_loss: 0.1985 - val_accuracy: 0.9048\n",
      "Epoch 70/100\n",
      "9/9 [==============================] - 0s 4ms/step - loss: 0.1986 - accuracy: 0.9286 - val_loss: 0.1902 - val_accuracy: 0.9048\n",
      "Epoch 71/100\n",
      "9/9 [==============================] - 0s 4ms/step - loss: 0.1538 - accuracy: 0.9643 - val_loss: 0.0867 - val_accuracy: 1.0000\n",
      "Epoch 72/100\n",
      "9/9 [==============================] - 0s 4ms/step - loss: 0.1429 - accuracy: 0.9524 - val_loss: 0.1125 - val_accuracy: 0.9524\n",
      "Epoch 73/100\n",
      "9/9 [==============================] - 0s 4ms/step - loss: 0.3616 - accuracy: 0.8214 - val_loss: 0.0940 - val_accuracy: 1.0000\n",
      "Epoch 74/100\n",
      "9/9 [==============================] - 0s 4ms/step - loss: 0.1550 - accuracy: 0.9762 - val_loss: 0.1537 - val_accuracy: 0.9524\n",
      "Epoch 75/100\n",
      "9/9 [==============================] - 0s 4ms/step - loss: 0.1435 - accuracy: 0.9524 - val_loss: 0.0836 - val_accuracy: 1.0000\n",
      "Epoch 76/100\n",
      "9/9 [==============================] - 0s 4ms/step - loss: 0.1393 - accuracy: 0.9643 - val_loss: 0.1343 - val_accuracy: 0.9524\n",
      "Epoch 77/100\n",
      "9/9 [==============================] - 0s 4ms/step - loss: 0.1666 - accuracy: 0.9524 - val_loss: 0.0828 - val_accuracy: 0.9524\n",
      "Epoch 78/100\n",
      "9/9 [==============================] - 0s 4ms/step - loss: 0.1527 - accuracy: 0.9524 - val_loss: 0.1040 - val_accuracy: 0.9524\n",
      "Epoch 79/100\n",
      "9/9 [==============================] - 0s 4ms/step - loss: 0.2459 - accuracy: 0.8810 - val_loss: 0.1064 - val_accuracy: 0.9048\n",
      "Epoch 80/100\n",
      "9/9 [==============================] - 0s 4ms/step - loss: 0.1297 - accuracy: 0.9524 - val_loss: 0.0811 - val_accuracy: 1.0000\n",
      "Epoch 81/100\n",
      "9/9 [==============================] - 0s 4ms/step - loss: 0.1665 - accuracy: 0.9286 - val_loss: 0.0793 - val_accuracy: 1.0000\n",
      "Epoch 82/100\n",
      "9/9 [==============================] - 0s 4ms/step - loss: 0.1450 - accuracy: 0.9643 - val_loss: 0.1247 - val_accuracy: 0.9524\n",
      "Epoch 83/100\n",
      "9/9 [==============================] - 0s 4ms/step - loss: 0.1738 - accuracy: 0.9524 - val_loss: 0.0933 - val_accuracy: 0.9524\n",
      "Epoch 84/100\n",
      "9/9 [==============================] - 0s 4ms/step - loss: 0.1236 - accuracy: 0.9643 - val_loss: 0.1084 - val_accuracy: 0.9524\n",
      "Epoch 85/100\n",
      "9/9 [==============================] - 0s 4ms/step - loss: 0.1995 - accuracy: 0.8929 - val_loss: 0.0748 - val_accuracy: 1.0000\n",
      "Epoch 86/100\n",
      "9/9 [==============================] - 0s 4ms/step - loss: 0.1207 - accuracy: 0.9762 - val_loss: 0.2425 - val_accuracy: 0.9048\n",
      "Epoch 87/100\n",
      "9/9 [==============================] - 0s 4ms/step - loss: 0.1563 - accuracy: 0.9524 - val_loss: 0.0743 - val_accuracy: 1.0000\n",
      "Epoch 88/100\n",
      "9/9 [==============================] - 0s 4ms/step - loss: 0.1524 - accuracy: 0.9643 - val_loss: 0.0992 - val_accuracy: 0.9524\n",
      "Epoch 89/100\n",
      "9/9 [==============================] - 0s 4ms/step - loss: 0.1813 - accuracy: 0.9286 - val_loss: 0.0799 - val_accuracy: 0.9524\n",
      "Epoch 90/100\n",
      "9/9 [==============================] - 0s 4ms/step - loss: 0.1379 - accuracy: 0.9643 - val_loss: 0.1887 - val_accuracy: 0.9048\n",
      "Epoch 91/100\n",
      "9/9 [==============================] - 0s 4ms/step - loss: 0.1388 - accuracy: 0.9524 - val_loss: 0.1051 - val_accuracy: 0.9524\n",
      "Epoch 92/100\n",
      "9/9 [==============================] - 0s 4ms/step - loss: 0.1405 - accuracy: 0.9286 - val_loss: 0.1065 - val_accuracy: 0.9048\n",
      "Epoch 93/100\n",
      "9/9 [==============================] - 0s 4ms/step - loss: 0.1335 - accuracy: 0.9286 - val_loss: 0.2924 - val_accuracy: 0.9048\n",
      "Epoch 94/100\n",
      "9/9 [==============================] - 0s 4ms/step - loss: 0.1418 - accuracy: 0.9524 - val_loss: 0.1814 - val_accuracy: 0.9048\n",
      "Epoch 95/100\n",
      "9/9 [==============================] - 0s 4ms/step - loss: 0.1661 - accuracy: 0.9286 - val_loss: 0.0708 - val_accuracy: 1.0000\n",
      "Epoch 96/100\n",
      "9/9 [==============================] - 0s 4ms/step - loss: 0.1514 - accuracy: 0.9405 - val_loss: 0.0698 - val_accuracy: 1.0000\n",
      "Epoch 97/100\n",
      "9/9 [==============================] - 0s 4ms/step - loss: 0.1087 - accuracy: 0.9643 - val_loss: 0.1082 - val_accuracy: 0.9048\n",
      "Epoch 98/100\n",
      "9/9 [==============================] - 0s 4ms/step - loss: 0.1594 - accuracy: 0.9524 - val_loss: 0.2487 - val_accuracy: 0.9048\n",
      "Epoch 99/100\n",
      "9/9 [==============================] - 0s 4ms/step - loss: 0.1247 - accuracy: 0.9762 - val_loss: 0.1584 - val_accuracy: 0.9524\n",
      "Epoch 100/100\n",
      "9/9 [==============================] - 0s 4ms/step - loss: 0.1270 - accuracy: 0.9524 - val_loss: 0.0950 - val_accuracy: 0.9524\n"
     ]
    }
   ],
   "source": [
    "H=network.fit(X_train, train_labels, epochs=100, batch_size=10,validation_split=0.2)"
   ]
  },
  {
   "cell_type": "code",
   "execution_count": 38,
   "id": "0b83256a",
   "metadata": {},
   "outputs": [
    {
     "data": {
      "text/plain": [
       "dict_keys(['loss', 'accuracy', 'val_loss', 'val_accuracy'])"
      ]
     },
     "execution_count": 38,
     "metadata": {},
     "output_type": "execute_result"
    }
   ],
   "source": [
    "H.history.keys()"
   ]
  },
  {
   "cell_type": "code",
   "execution_count": 39,
   "id": "f6dc7981",
   "metadata": {},
   "outputs": [
    {
     "data": {
      "image/png": "[encoded data removed]",
      "text/plain": [
       "<Figure size 432x288 with 1 Axes>"
      ]
     },
     "metadata": {
      "needs_background": "light"
     },
     "output_type": "display_data"
    }
   ],
   "source": [
    "Acc_train = H.history['accuracy']\n",
    "Accu_val = H.history['val_accuracy']\n",
    "plt.plot(Acc_train, 'g', label='Training accuracy')\n",
    "plt.plot(Accu_val, 'b', label='validation accuracy')\n",
    "plt.title('Training and Validation Accuracy For Learning rate = %f' % learning_rate)\n",
    "plt.xlabel('Epochs')\n",
    "plt.ylabel('Accuracy')\n",
    "plt.legend(['train','val'],loc='lower right')\n",
    "plt.show()"
   ]
  },
  {
   "cell_type": "code",
   "execution_count": 46,
   "id": "480d3e86",
   "metadata": {},
   "outputs": [
    {
     "name": "stdout",
     "output_type": "stream",
     "text": [
      "2/2 [==============================] - 0s 2ms/step - loss: 0.0632 - accuracy: 0.9778\n",
      "4/4 [==============================] - 0s 997us/step - loss: 0.0823 - accuracy: 0.9810\n",
      "Test Accuracy:  0.9777777791023254 \n",
      "Test Loss:  0.06322108209133148\n",
      "Train Accuracy:  0.9809523820877075 \n",
      "Train Loss:  0.08233604580163956\n"
     ]
    }
   ],
   "source": [
    "test_loss04, test_acc04 = network.evaluate(X_test, test_labels)\n",
    "train_loss04, train_acc04 = network.evaluate(X_train, train_labels)\n",
    "#\n",
    "# Print the test accuracy\n",
    "#\n",
    "print('Test Accuracy: ', test_acc04, '\\nTest Loss: ', test_loss04)\n",
    "print('Train Accuracy: ', train_acc04, '\\nTrain Loss: ', train_loss04)"
   ]
  },
  {
   "cell_type": "code",
   "execution_count": 47,
   "id": "06a2b8c9",
   "metadata": {},
   "outputs": [],
   "source": [
    "learning_rate=0.01\n",
    "sgd=SGD(learning_rate)\n",
    "network.compile(optimizer='sgd',\n",
    "                loss='categorical_crossentropy',\n",
    "                metrics=['accuracy'])"
   ]
  },
  {
   "cell_type": "code",
   "execution_count": 48,
   "id": "7dce1be3",
   "metadata": {},
   "outputs": [
    {
     "name": "stdout",
     "output_type": "stream",
     "text": [
      "Epoch 1/100\n",
      "9/9 [==============================] - 0s 30ms/step - loss: 0.1068 - accuracy: 0.9643 - val_loss: 0.0988 - val_accuracy: 0.9524\n",
      "Epoch 2/100\n",
      "9/9 [==============================] - 0s 6ms/step - loss: 0.0905 - accuracy: 0.9762 - val_loss: 0.0908 - val_accuracy: 0.9524\n",
      "Epoch 3/100\n",
      "9/9 [==============================] - 0s 4ms/step - loss: 0.1081 - accuracy: 0.9762 - val_loss: 0.0526 - val_accuracy: 0.9524\n",
      "Epoch 4/100\n",
      "9/9 [==============================] - 0s 4ms/step - loss: 0.0941 - accuracy: 0.9762 - val_loss: 0.0427 - val_accuracy: 1.0000\n",
      "Epoch 5/100\n",
      "9/9 [==============================] - 0s 5ms/step - loss: 0.0970 - accuracy: 0.9762 - val_loss: 0.0554 - val_accuracy: 1.0000\n",
      "Epoch 6/100\n",
      "9/9 [==============================] - 0s 4ms/step - loss: 0.1583 - accuracy: 0.9405 - val_loss: 0.0445 - val_accuracy: 1.0000\n",
      "Epoch 7/100\n",
      "9/9 [==============================] - 0s 4ms/step - loss: 0.1182 - accuracy: 0.9643 - val_loss: 0.0572 - val_accuracy: 1.0000\n",
      "Epoch 8/100\n",
      "9/9 [==============================] - 0s 4ms/step - loss: 0.1083 - accuracy: 0.9405 - val_loss: 0.0541 - val_accuracy: 1.0000\n",
      "Epoch 9/100\n",
      "9/9 [==============================] - 0s 5ms/step - loss: 0.1078 - accuracy: 0.9524 - val_loss: 0.0510 - val_accuracy: 1.0000\n",
      "Epoch 10/100\n",
      "9/9 [==============================] - 0s 4ms/step - loss: 0.0955 - accuracy: 0.9643 - val_loss: 0.0656 - val_accuracy: 0.9524\n",
      "Epoch 11/100\n",
      "9/9 [==============================] - 0s 5ms/step - loss: 0.1180 - accuracy: 0.9524 - val_loss: 0.0563 - val_accuracy: 0.9524\n",
      "Epoch 12/100\n",
      "9/9 [==============================] - 0s 5ms/step - loss: 0.1025 - accuracy: 0.9524 - val_loss: 0.0479 - val_accuracy: 1.0000\n",
      "Epoch 13/100\n",
      "9/9 [==============================] - 0s 5ms/step - loss: 0.1194 - accuracy: 0.9524 - val_loss: 0.0535 - val_accuracy: 1.0000\n",
      "Epoch 14/100\n",
      "9/9 [==============================] - 0s 5ms/step - loss: 0.1177 - accuracy: 0.9762 - val_loss: 0.0420 - val_accuracy: 1.0000\n",
      "Epoch 15/100\n",
      "9/9 [==============================] - 0s 4ms/step - loss: 0.1158 - accuracy: 0.9524 - val_loss: 0.1846 - val_accuracy: 0.9524\n",
      "Epoch 16/100\n",
      "9/9 [==============================] - 0s 4ms/step - loss: 0.1379 - accuracy: 0.9167 - val_loss: 0.0725 - val_accuracy: 0.9524\n",
      "Epoch 17/100\n",
      "9/9 [==============================] - 0s 4ms/step - loss: 0.1062 - accuracy: 0.9405 - val_loss: 0.0413 - val_accuracy: 1.0000\n",
      "Epoch 18/100\n",
      "9/9 [==============================] - 0s 4ms/step - loss: 0.0995 - accuracy: 0.9643 - val_loss: 0.2246 - val_accuracy: 0.9048\n",
      "Epoch 19/100\n",
      "9/9 [==============================] - 0s 5ms/step - loss: 0.1570 - accuracy: 0.9524 - val_loss: 0.0794 - val_accuracy: 0.9524\n",
      "Epoch 20/100\n",
      "9/9 [==============================] - 0s 5ms/step - loss: 0.1311 - accuracy: 0.9405 - val_loss: 0.0582 - val_accuracy: 0.9524\n",
      "Epoch 21/100\n",
      "9/9 [==============================] - 0s 5ms/step - loss: 0.0948 - accuracy: 0.9643 - val_loss: 0.1090 - val_accuracy: 0.9048\n",
      "Epoch 22/100\n",
      "9/9 [==============================] - 0s 5ms/step - loss: 0.1157 - accuracy: 0.9643 - val_loss: 0.0827 - val_accuracy: 0.9524\n",
      "Epoch 23/100\n",
      "9/9 [==============================] - 0s 5ms/step - loss: 0.1035 - accuracy: 0.9762 - val_loss: 0.0464 - val_accuracy: 1.0000\n",
      "Epoch 24/100\n",
      "9/9 [==============================] - 0s 4ms/step - loss: 0.0931 - accuracy: 0.9643 - val_loss: 0.0403 - val_accuracy: 1.0000\n",
      "Epoch 25/100\n",
      "9/9 [==============================] - 0s 5ms/step - loss: 0.1113 - accuracy: 0.9762 - val_loss: 0.0589 - val_accuracy: 0.9524\n",
      "Epoch 26/100\n",
      "9/9 [==============================] - 0s 4ms/step - loss: 0.2092 - accuracy: 0.9048 - val_loss: 0.0432 - val_accuracy: 1.0000\n",
      "Epoch 27/100\n",
      "9/9 [==============================] - 0s 4ms/step - loss: 0.1363 - accuracy: 0.9405 - val_loss: 0.0491 - val_accuracy: 1.0000\n",
      "Epoch 28/100\n",
      "9/9 [==============================] - 0s 4ms/step - loss: 0.1151 - accuracy: 0.9524 - val_loss: 0.0929 - val_accuracy: 0.9524\n",
      "Epoch 29/100\n",
      "9/9 [==============================] - 0s 4ms/step - loss: 0.1036 - accuracy: 0.9643 - val_loss: 0.0430 - val_accuracy: 1.0000\n",
      "Epoch 30/100\n",
      "9/9 [==============================] - 0s 4ms/step - loss: 0.0945 - accuracy: 0.9762 - val_loss: 0.0627 - val_accuracy: 1.0000\n",
      "Epoch 31/100\n",
      "9/9 [==============================] - 0s 5ms/step - loss: 0.0918 - accuracy: 0.9762 - val_loss: 0.1030 - val_accuracy: 0.9524\n",
      "Epoch 32/100\n",
      "9/9 [==============================] - 0s 4ms/step - loss: 0.1243 - accuracy: 0.9524 - val_loss: 0.0614 - val_accuracy: 1.0000\n",
      "Epoch 33/100\n",
      "9/9 [==============================] - 0s 4ms/step - loss: 0.0927 - accuracy: 0.9762 - val_loss: 0.0499 - val_accuracy: 0.9524\n",
      "Epoch 34/100\n",
      "9/9 [==============================] - 0s 4ms/step - loss: 0.1322 - accuracy: 0.9405 - val_loss: 0.0426 - val_accuracy: 1.0000\n",
      "Epoch 35/100\n",
      "9/9 [==============================] - 0s 5ms/step - loss: 0.1452 - accuracy: 0.9524 - val_loss: 0.1629 - val_accuracy: 0.9048\n",
      "Epoch 36/100\n",
      "9/9 [==============================] - 0s 4ms/step - loss: 0.1031 - accuracy: 0.9643 - val_loss: 0.0401 - val_accuracy: 1.0000\n",
      "Epoch 37/100\n",
      "9/9 [==============================] - 0s 5ms/step - loss: 0.1098 - accuracy: 0.9524 - val_loss: 0.0437 - val_accuracy: 1.0000\n",
      "Epoch 38/100\n",
      "9/9 [==============================] - 0s 4ms/step - loss: 0.1139 - accuracy: 0.9524 - val_loss: 0.0446 - val_accuracy: 1.0000\n",
      "Epoch 39/100\n",
      "9/9 [==============================] - 0s 4ms/step - loss: 0.1116 - accuracy: 0.9643 - val_loss: 0.0628 - val_accuracy: 0.9524\n",
      "Epoch 40/100\n",
      "9/9 [==============================] - 0s 5ms/step - loss: 0.1311 - accuracy: 0.9524 - val_loss: 0.0387 - val_accuracy: 1.0000\n",
      "Epoch 41/100\n",
      "9/9 [==============================] - 0s 4ms/step - loss: 0.0900 - accuracy: 0.9643 - val_loss: 0.0397 - val_accuracy: 1.0000\n",
      "Epoch 42/100\n",
      "9/9 [==============================] - 0s 5ms/step - loss: 0.1067 - accuracy: 0.9762 - val_loss: 0.0379 - val_accuracy: 1.0000\n",
      "Epoch 43/100\n",
      "9/9 [==============================] - 0s 4ms/step - loss: 0.0988 - accuracy: 0.9643 - val_loss: 0.0533 - val_accuracy: 0.9524\n",
      "Epoch 44/100\n",
      "9/9 [==============================] - 0s 4ms/step - loss: 0.1044 - accuracy: 0.9524 - val_loss: 0.2170 - val_accuracy: 0.9048\n",
      "Epoch 45/100\n",
      "9/9 [==============================] - 0s 5ms/step - loss: 0.2143 - accuracy: 0.8929 - val_loss: 0.0865 - val_accuracy: 0.9524\n",
      "Epoch 46/100\n",
      "9/9 [==============================] - 0s 4ms/step - loss: 0.1250 - accuracy: 0.9524 - val_loss: 0.0825 - val_accuracy: 0.9524\n",
      "Epoch 47/100\n",
      "9/9 [==============================] - 0s 4ms/step - loss: 0.1186 - accuracy: 0.9643 - val_loss: 0.0634 - val_accuracy: 0.9524\n",
      "Epoch 48/100\n",
      "9/9 [==============================] - 0s 4ms/step - loss: 0.1007 - accuracy: 0.9643 - val_loss: 0.0441 - val_accuracy: 1.0000\n",
      "Epoch 49/100\n",
      "9/9 [==============================] - 0s 4ms/step - loss: 0.0940 - accuracy: 0.9643 - val_loss: 0.0450 - val_accuracy: 1.0000\n",
      "Epoch 50/100\n",
      "9/9 [==============================] - 0s 4ms/step - loss: 0.1014 - accuracy: 0.9643 - val_loss: 0.0595 - val_accuracy: 0.9524\n",
      "Epoch 51/100\n",
      "9/9 [==============================] - 0s 4ms/step - loss: 0.1822 - accuracy: 0.9167 - val_loss: 0.0416 - val_accuracy: 1.0000\n",
      "Epoch 52/100\n",
      "9/9 [==============================] - 0s 5ms/step - loss: 0.0909 - accuracy: 0.9762 - val_loss: 0.0473 - val_accuracy: 1.0000\n",
      "Epoch 53/100\n",
      "9/9 [==============================] - 0s 4ms/step - loss: 0.0919 - accuracy: 0.9643 - val_loss: 0.0407 - val_accuracy: 1.0000\n",
      "Epoch 54/100\n",
      "9/9 [==============================] - 0s 4ms/step - loss: 0.0976 - accuracy: 0.9524 - val_loss: 0.0570 - val_accuracy: 0.9524\n",
      "Epoch 55/100\n",
      "9/9 [==============================] - 0s 4ms/step - loss: 0.1057 - accuracy: 0.9643 - val_loss: 0.0430 - val_accuracy: 1.0000\n",
      "Epoch 56/100\n",
      "9/9 [==============================] - 0s 5ms/step - loss: 0.1152 - accuracy: 0.9524 - val_loss: 0.0583 - val_accuracy: 1.0000\n",
      "Epoch 57/100\n",
      "9/9 [==============================] - 0s 4ms/step - loss: 0.0901 - accuracy: 0.9762 - val_loss: 0.1979 - val_accuracy: 0.9524\n",
      "Epoch 58/100\n",
      "9/9 [==============================] - 0s 4ms/step - loss: 0.2017 - accuracy: 0.9048 - val_loss: 0.1319 - val_accuracy: 0.9048\n",
      "Epoch 59/100\n"
     ]
    },
    {
     "name": "stdout",
     "output_type": "stream",
     "text": [
      "9/9 [==============================] - 0s 4ms/step - loss: 0.1111 - accuracy: 0.9762 - val_loss: 0.0556 - val_accuracy: 0.9524\n",
      "Epoch 60/100\n",
      "9/9 [==============================] - 0s 4ms/step - loss: 0.0999 - accuracy: 0.9643 - val_loss: 0.0612 - val_accuracy: 0.9524\n",
      "Epoch 61/100\n",
      "9/9 [==============================] - 0s 4ms/step - loss: 0.0963 - accuracy: 0.9524 - val_loss: 0.0542 - val_accuracy: 1.0000\n",
      "Epoch 62/100\n",
      "9/9 [==============================] - 0s 4ms/step - loss: 0.1010 - accuracy: 0.9643 - val_loss: 0.1873 - val_accuracy: 0.9048\n",
      "Epoch 63/100\n",
      "9/9 [==============================] - 0s 4ms/step - loss: 0.1380 - accuracy: 0.9405 - val_loss: 0.0969 - val_accuracy: 0.9524\n",
      "Epoch 64/100\n",
      "9/9 [==============================] - 0s 4ms/step - loss: 0.0986 - accuracy: 0.9524 - val_loss: 0.1243 - val_accuracy: 0.9048\n",
      "Epoch 65/100\n",
      "9/9 [==============================] - 0s 4ms/step - loss: 0.1395 - accuracy: 0.9405 - val_loss: 0.0436 - val_accuracy: 1.0000\n",
      "Epoch 66/100\n",
      "9/9 [==============================] - 0s 4ms/step - loss: 0.0950 - accuracy: 0.9643 - val_loss: 0.1893 - val_accuracy: 0.9048\n",
      "Epoch 67/100\n",
      "9/9 [==============================] - 0s 5ms/step - loss: 0.1239 - accuracy: 0.9643 - val_loss: 0.0391 - val_accuracy: 1.0000\n",
      "Epoch 68/100\n",
      "9/9 [==============================] - 0s 4ms/step - loss: 0.0957 - accuracy: 0.9524 - val_loss: 0.1530 - val_accuracy: 0.9524\n",
      "Epoch 69/100\n",
      "9/9 [==============================] - 0s 5ms/step - loss: 0.0866 - accuracy: 0.9762 - val_loss: 0.1153 - val_accuracy: 0.9524\n",
      "Epoch 70/100\n",
      "9/9 [==============================] - 0s 4ms/step - loss: 0.0925 - accuracy: 0.9762 - val_loss: 0.0551 - val_accuracy: 1.0000\n",
      "Epoch 71/100\n",
      "9/9 [==============================] - 0s 5ms/step - loss: 0.0944 - accuracy: 0.9762 - val_loss: 0.0444 - val_accuracy: 1.0000\n",
      "Epoch 72/100\n",
      "9/9 [==============================] - 0s 4ms/step - loss: 0.1141 - accuracy: 0.9524 - val_loss: 0.0358 - val_accuracy: 1.0000\n",
      "Epoch 73/100\n",
      "9/9 [==============================] - 0s 4ms/step - loss: 0.0883 - accuracy: 0.9762 - val_loss: 0.0373 - val_accuracy: 1.0000\n",
      "Epoch 74/100\n",
      "9/9 [==============================] - 0s 5ms/step - loss: 0.0970 - accuracy: 0.9643 - val_loss: 0.0369 - val_accuracy: 1.0000\n",
      "Epoch 75/100\n",
      "9/9 [==============================] - 0s 4ms/step - loss: 0.1271 - accuracy: 0.9524 - val_loss: 0.0431 - val_accuracy: 1.0000\n",
      "Epoch 76/100\n",
      "9/9 [==============================] - 0s 4ms/step - loss: 0.0955 - accuracy: 0.9643 - val_loss: 0.1235 - val_accuracy: 0.9524\n",
      "Epoch 77/100\n",
      "9/9 [==============================] - 0s 4ms/step - loss: 0.1067 - accuracy: 0.9643 - val_loss: 0.0435 - val_accuracy: 1.0000\n",
      "Epoch 78/100\n",
      "9/9 [==============================] - 0s 4ms/step - loss: 0.1159 - accuracy: 0.9643 - val_loss: 0.0812 - val_accuracy: 0.9524\n",
      "Epoch 79/100\n",
      "9/9 [==============================] - 0s 4ms/step - loss: 0.1014 - accuracy: 0.9762 - val_loss: 0.0403 - val_accuracy: 1.0000\n",
      "Epoch 80/100\n",
      "9/9 [==============================] - 0s 4ms/step - loss: 0.0746 - accuracy: 0.9762 - val_loss: 0.0342 - val_accuracy: 1.0000\n",
      "Epoch 81/100\n",
      "9/9 [==============================] - 0s 4ms/step - loss: 0.0886 - accuracy: 0.9762 - val_loss: 0.1043 - val_accuracy: 0.9524\n",
      "Epoch 82/100\n",
      "9/9 [==============================] - 0s 4ms/step - loss: 0.1047 - accuracy: 0.9643 - val_loss: 0.2106 - val_accuracy: 0.9048\n",
      "Epoch 83/100\n",
      "9/9 [==============================] - 0s 4ms/step - loss: 0.1650 - accuracy: 0.9286 - val_loss: 0.2084 - val_accuracy: 0.9048\n",
      "Epoch 84/100\n",
      "9/9 [==============================] - 0s 4ms/step - loss: 0.1247 - accuracy: 0.9643 - val_loss: 0.0730 - val_accuracy: 0.9524\n",
      "Epoch 85/100\n",
      "9/9 [==============================] - 0s 4ms/step - loss: 0.1107 - accuracy: 0.9524 - val_loss: 0.0827 - val_accuracy: 0.9524\n",
      "Epoch 86/100\n",
      "9/9 [==============================] - 0s 4ms/step - loss: 0.1020 - accuracy: 0.9643 - val_loss: 0.0369 - val_accuracy: 1.0000\n",
      "Epoch 87/100\n",
      "9/9 [==============================] - 0s 4ms/step - loss: 0.0755 - accuracy: 0.9762 - val_loss: 0.0971 - val_accuracy: 0.9524\n",
      "Epoch 88/100\n",
      "9/9 [==============================] - 0s 4ms/step - loss: 0.1488 - accuracy: 0.9524 - val_loss: 0.0556 - val_accuracy: 0.9524\n",
      "Epoch 89/100\n",
      "9/9 [==============================] - 0s 4ms/step - loss: 0.1438 - accuracy: 0.9286 - val_loss: 0.2174 - val_accuracy: 0.9048\n",
      "Epoch 90/100\n",
      "9/9 [==============================] - 0s 4ms/step - loss: 0.1295 - accuracy: 0.9524 - val_loss: 0.0569 - val_accuracy: 0.9524\n",
      "Epoch 91/100\n",
      "9/9 [==============================] - 0s 5ms/step - loss: 0.0916 - accuracy: 0.9762 - val_loss: 0.2506 - val_accuracy: 0.9048\n",
      "Epoch 92/100\n",
      "9/9 [==============================] - 0s 4ms/step - loss: 0.1477 - accuracy: 0.9405 - val_loss: 0.2186 - val_accuracy: 0.9048\n",
      "Epoch 93/100\n",
      "9/9 [==============================] - 0s 4ms/step - loss: 0.1552 - accuracy: 0.9286 - val_loss: 0.2706 - val_accuracy: 0.9048\n",
      "Epoch 94/100\n",
      "9/9 [==============================] - 0s 4ms/step - loss: 0.1497 - accuracy: 0.9524 - val_loss: 0.1275 - val_accuracy: 0.9524\n",
      "Epoch 95/100\n",
      "9/9 [==============================] - 0s 4ms/step - loss: 0.1298 - accuracy: 0.9405 - val_loss: 0.0515 - val_accuracy: 0.9524\n",
      "Epoch 96/100\n",
      "9/9 [==============================] - 0s 4ms/step - loss: 0.0874 - accuracy: 0.9643 - val_loss: 0.0714 - val_accuracy: 0.9524\n",
      "Epoch 97/100\n",
      "9/9 [==============================] - 0s 5ms/step - loss: 0.0928 - accuracy: 0.9524 - val_loss: 0.0574 - val_accuracy: 0.9524\n",
      "Epoch 98/100\n",
      "9/9 [==============================] - 0s 4ms/step - loss: 0.0806 - accuracy: 0.9762 - val_loss: 0.3459 - val_accuracy: 0.9048\n",
      "Epoch 99/100\n",
      "9/9 [==============================] - 0s 4ms/step - loss: 0.1506 - accuracy: 0.9524 - val_loss: 0.0448 - val_accuracy: 1.0000\n",
      "Epoch 100/100\n",
      "9/9 [==============================] - 0s 4ms/step - loss: 0.1074 - accuracy: 0.9524 - val_loss: 0.0768 - val_accuracy: 0.9524\n"
     ]
    }
   ],
   "source": [
    "H=network.fit(X_train, train_labels, epochs=100, batch_size=10,validation_split=0.2)"
   ]
  },
  {
   "cell_type": "code",
   "execution_count": 49,
   "id": "14e2ddb7",
   "metadata": {},
   "outputs": [
    {
     "data": {
      "text/plain": [
       "dict_keys(['loss', 'accuracy', 'val_loss', 'val_accuracy'])"
      ]
     },
     "execution_count": 49,
     "metadata": {},
     "output_type": "execute_result"
    }
   ],
   "source": [
    "H.history.keys()"
   ]
  },
  {
   "cell_type": "code",
   "execution_count": 50,
   "id": "61a86af6",
   "metadata": {},
   "outputs": [
    {
     "data": {
      "image/png": "[encoded data removed]",
      "text/plain": [
       "<Figure size 432x288 with 1 Axes>"
      ]
     },
     "metadata": {
      "needs_background": "light"
     },
     "output_type": "display_data"
    }
   ],
   "source": [
    "Acc_train = H.history['accuracy']\n",
    "Accu_val = H.history['val_accuracy']\n",
    "plt.plot(Acc_train, 'g', label='Training accuracy')\n",
    "plt.plot(Accu_val, 'b', label='validation accuracy')\n",
    "plt.title('Training and Validation Accuracy For Learning rate = %f' % learning_rate)\n",
    "plt.xlabel('Epochs')\n",
    "plt.ylabel('Accuracy')\n",
    "plt.legend(['train','val'],loc='lower right')\n",
    "plt.show()"
   ]
  },
  {
   "cell_type": "code",
   "execution_count": 51,
   "id": "3d803f5d",
   "metadata": {},
   "outputs": [
    {
     "name": "stdout",
     "output_type": "stream",
     "text": [
      "2/2 [==============================] - 0s 2ms/step - loss: 0.0740 - accuracy: 0.9778\n",
      "4/4 [==============================] - 0s 4ms/step - loss: 0.1067 - accuracy: 0.9619\n",
      "Test Accuracy:  0.9777777791023254 \n",
      "Test Loss:  0.07398846000432968\n",
      "Train Accuracy:  0.961904764175415 \n",
      "Train Loss:  0.10671845078468323\n"
     ]
    }
   ],
   "source": [
    "test_loss, test_acc = network.evaluate(X_test, test_labels)\n",
    "train_loss, train_acc = network.evaluate(X_train, train_labels)\n",
    "#\n",
    "# Print the test accuracy\n",
    "#\n",
    "print('Test Accuracy: ', test_acc, '\\nTest Loss: ', test_loss)\n",
    "print('Train Accuracy: ', train_acc, '\\nTrain Loss: ', train_loss)"
   ]
  },
  {
   "cell_type": "code",
   "execution_count": 53,
   "id": "c8beef0b",
   "metadata": {},
   "outputs": [
    {
     "name": "stdout",
     "output_type": "stream",
     "text": [
      "Learning Rate\t Train Accuracy\t Train Loss\t Test Accuracy\t Test Loss\n",
      "\n",
      "\n",
      " 0.04 \t 0.9809523820877075 \t 0.08233604580163956 \t 0.9777777791023254 \t 0.06322108209133148\n",
      "\n",
      " 0.01 \t 0.961904764175415 \t 0.10671845078468323 \t 0.9777777791023254 \t 0.07398846000432968\n"
     ]
    }
   ],
   "source": [
    "print('Learning Rate\\t', 'Train Accuracy\\t', 'Train Loss\\t', 'Test Accuracy\\t', 'Test Loss\\n')\n",
    "print('\\n', 0.04, '\\t', train_acc04, '\\t', train_loss04, '\\t', test_acc04, '\\t', test_loss04)\n",
    "print('\\n', 0.01, '\\t', train_acc, '\\t', train_loss, '\\t', test_acc, '\\t', test_loss)"
   ]
  },
  {
   "cell_type": "code",
   "execution_count": null,
   "id": "ba0faabc",
   "metadata": {},
   "outputs": [],
   "source": []
  }
 ],
 "metadata": {
  "kernelspec": {
   "display_name": "Python 3 (ipykernel)",
   "language": "python",
   "name": "python3"
  },
  "language_info": {
   "codemirror_mode": {
    "name": "ipython",
    "version": 3
   },
   "file_extension": ".py",
   "mimetype": "text/x-python",
   "name": "python",
   "nbconvert_exporter": "python",
   "pygments_lexer": "ipython3",
   "version": "3.9.12"
  }
 },
 "nbformat": 4,
 "nbformat_minor": 5
}
